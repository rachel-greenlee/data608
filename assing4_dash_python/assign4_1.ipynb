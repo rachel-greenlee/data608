{
 "cells": [
  {
   "cell_type": "code",
   "execution_count": 1,
   "metadata": {},
   "outputs": [],
   "source": [
    "import pandas as pd\n",
    "import numpy as np\n",
    "import plotly.express as px"
   ]
  },
  {
   "cell_type": "markdown",
   "metadata": {},
   "source": [
    "Project Prompt:\n",
    "\n",
    "In this module we’ll be looking at data from the New York City tree census:\n",
    "https://data.cityofnewyork.us/Environment/2015-Street-Tree-Census-Tree-Data/uvpi-gqnh\n",
    "This data is collected by volunteers across the city, and is meant to catalog information\n",
    "about every single tree in the city.\n",
    "\n",
    "Build a dash app for a arborist studying the health of various tree species (as defined by the\n",
    "variable ‘spc_common’) across each borough (defined by the variable ‘borough’). This\n",
    "arborist would like to answer the following two questions for each species and in each\n",
    "borough:\n",
    "\n",
    "1. What proportion of trees are in good, fair, or poor health according to the ‘health’ variable?\n",
    "\n",
    "2. Are stewards (steward activity measured by the ‘steward’ variable) having an impact on the health of trees?\n",
    "\n",
    "Please see the accompanying notebook for an introduction and some notes on the Socrata\n",
    "API."
   ]
  },
  {
   "cell_type": "markdown",
   "metadata": {},
   "source": [
    "Using the instructor's base code on Socrata and getting around the API limits, I pull in all of the data but by borough below, and then combine into one."
   ]
  },
  {
   "cell_type": "code",
   "execution_count": 2,
   "metadata": {},
   "outputs": [],
   "source": [
    "# Bronx \n",
    "soql_url_bronx = ('https://data.cityofnewyork.us/resource/nwxe-4ae8.json?' +\\\n",
    "        '$select=health, steward, spc_common, count(tree_id)' +\\\n",
    "        '&$where=boroname=\\'Bronx\\'' +\\\n",
    "        '&$group=steward, health, spc_common').replace(' ', '%20')\n",
    "bronx = pd.read_json(soql_url_bronx)\n",
    "\n",
    "bronx.head(10)\n",
    "\n",
    "# Brooklyn\n",
    "soql_url_brooklyn = ('https://data.cityofnewyork.us/resource/nwxe-4ae8.json?' +\\\n",
    "        '$select=health, steward, spc_common, count(tree_id)' +\\\n",
    "        '&$where=boroname=\\'Bronx\\'' +\\\n",
    "        '&$group=steward, health, spc_common').replace(' ', '%20')\n",
    "brooklyn = pd.read_json(soql_url_brooklyn)\n",
    "\n",
    "# Manhattan\n",
    "soql_url_manhattan = ('https://data.cityofnewyork.us/resource/nwxe-4ae8.json?' +\\\n",
    "        '$select=health, steward, spc_common, count(tree_id)' +\\\n",
    "        '&$where=boroname=\\'Bronx\\'' +\\\n",
    "        '&$group=steward, health, spc_common').replace(' ', '%20')\n",
    "manhattan = pd.read_json(soql_url_manhattan)\n",
    "\n",
    "# Staten Island\n",
    "soql_url_staten = ('https://data.cityofnewyork.us/resource/nwxe-4ae8.json?' +\\\n",
    "        '$select=health, steward, spc_common, count(tree_id)' +\\\n",
    "        '&$where=boroname=\\'Bronx\\'' +\\\n",
    "        '&$group=steward, health, spc_common').replace(' ', '%20')\n",
    "staten = pd.read_json(soql_url_staten)\n",
    "\n",
    "# Queens\n",
    "soql_url_queens = ('https://data.cityofnewyork.us/resource/nwxe-4ae8.json?' +\\\n",
    "        '$select=health, steward, spc_common, count(tree_id)' +\\\n",
    "        '&$where=boroname=\\'Bronx\\'' +\\\n",
    "        '&$group=steward, health, spc_common').replace(' ', '%20')\n",
    "queens = pd.read_json(soql_url_queens)\n",
    "\n",
    "# create a 'boro' variable and set correct label before merge\n",
    "bronx[\"boro\"] = \"bronx\"\n",
    "brooklyn[\"boro\"] = \"brooklyn\"\n",
    "manhattan[\"boro\"] = \"manhattan\"\n",
    "staten[\"boro\"] = \"staten island\"\n",
    "queens[\"boro\"] = \"queens\"\n",
    "\n",
    "# merge all boroughs together\n",
    "boroughs = [bronx, brooklyn, manhattan, staten, queens]\n",
    "trees = pd.concat(boroughs)"
   ]
  },
  {
   "cell_type": "markdown",
   "metadata": {},
   "source": [
    "The data below will allow us to plot any differences in the steward variable with regard to the trees health, by borough and species. First lets remove any rows that have an NaN as we won't be able to graph those. "
   ]
  },
  {
   "cell_type": "code",
   "execution_count": 3,
   "metadata": {},
   "outputs": [
    {
     "data": {
      "text/html": [
       "<div>\n",
       "<style scoped>\n",
       "    .dataframe tbody tr th:only-of-type {\n",
       "        vertical-align: middle;\n",
       "    }\n",
       "\n",
       "    .dataframe tbody tr th {\n",
       "        vertical-align: top;\n",
       "    }\n",
       "\n",
       "    .dataframe thead th {\n",
       "        text-align: right;\n",
       "    }\n",
       "</style>\n",
       "<table border=\"1\" class=\"dataframe\">\n",
       "  <thead>\n",
       "    <tr style=\"text-align: right;\">\n",
       "      <th></th>\n",
       "      <th>health</th>\n",
       "      <th>steward</th>\n",
       "      <th>spc_common</th>\n",
       "      <th>count_tree_id</th>\n",
       "      <th>boro</th>\n",
       "    </tr>\n",
       "  </thead>\n",
       "  <tbody>\n",
       "    <tr>\n",
       "      <th>0</th>\n",
       "      <td>Poor</td>\n",
       "      <td>None</td>\n",
       "      <td>white ash</td>\n",
       "      <td>20</td>\n",
       "      <td>bronx</td>\n",
       "    </tr>\n",
       "    <tr>\n",
       "      <th>2</th>\n",
       "      <td>Good</td>\n",
       "      <td>4orMore</td>\n",
       "      <td>flowering dogwood</td>\n",
       "      <td>2</td>\n",
       "      <td>bronx</td>\n",
       "    </tr>\n",
       "    <tr>\n",
       "      <th>3</th>\n",
       "      <td>Poor</td>\n",
       "      <td>3or4</td>\n",
       "      <td>littleleaf linden</td>\n",
       "      <td>3</td>\n",
       "      <td>bronx</td>\n",
       "    </tr>\n",
       "    <tr>\n",
       "      <th>4</th>\n",
       "      <td>Fair</td>\n",
       "      <td>None</td>\n",
       "      <td>red horse chestnut</td>\n",
       "      <td>2</td>\n",
       "      <td>bronx</td>\n",
       "    </tr>\n",
       "    <tr>\n",
       "      <th>5</th>\n",
       "      <td>Fair</td>\n",
       "      <td>3or4</td>\n",
       "      <td>honeylocust</td>\n",
       "      <td>3</td>\n",
       "      <td>bronx</td>\n",
       "    </tr>\n",
       "    <tr>\n",
       "      <th>6</th>\n",
       "      <td>Good</td>\n",
       "      <td>None</td>\n",
       "      <td>northern red oak</td>\n",
       "      <td>1000</td>\n",
       "      <td>bronx</td>\n",
       "    </tr>\n",
       "    <tr>\n",
       "      <th>7</th>\n",
       "      <td>Good</td>\n",
       "      <td>None</td>\n",
       "      <td>quaking aspen</td>\n",
       "      <td>3</td>\n",
       "      <td>bronx</td>\n",
       "    </tr>\n",
       "    <tr>\n",
       "      <th>8</th>\n",
       "      <td>Fair</td>\n",
       "      <td>1or2</td>\n",
       "      <td>Persian ironwood</td>\n",
       "      <td>3</td>\n",
       "      <td>bronx</td>\n",
       "    </tr>\n",
       "    <tr>\n",
       "      <th>9</th>\n",
       "      <td>Good</td>\n",
       "      <td>None</td>\n",
       "      <td>bald cypress</td>\n",
       "      <td>34</td>\n",
       "      <td>bronx</td>\n",
       "    </tr>\n",
       "    <tr>\n",
       "      <th>10</th>\n",
       "      <td>Good</td>\n",
       "      <td>1or2</td>\n",
       "      <td>southern red oak</td>\n",
       "      <td>4</td>\n",
       "      <td>bronx</td>\n",
       "    </tr>\n",
       "  </tbody>\n",
       "</table>\n",
       "</div>"
      ],
      "text/plain": [
       "   health  steward          spc_common  count_tree_id   boro\n",
       "0    Poor     None           white ash             20  bronx\n",
       "2    Good  4orMore   flowering dogwood              2  bronx\n",
       "3    Poor     3or4   littleleaf linden              3  bronx\n",
       "4    Fair     None  red horse chestnut              2  bronx\n",
       "5    Fair     3or4         honeylocust              3  bronx\n",
       "6    Good     None    northern red oak           1000  bronx\n",
       "7    Good     None       quaking aspen              3  bronx\n",
       "8    Fair     1or2    Persian ironwood              3  bronx\n",
       "9    Good     None        bald cypress             34  bronx\n",
       "10   Good     1or2    southern red oak              4  bronx"
      ]
     },
     "execution_count": 3,
     "metadata": {},
     "output_type": "execute_result"
    }
   ],
   "source": [
    "trees.dropna(axis = 0, how = 'any', inplace = True)\n",
    "\n",
    "trees.head(10)"
   ]
  },
  {
   "cell_type": "markdown",
   "metadata": {},
   "source": [
    "Apps based heavily off the code provided here: https://plotly.com/python/bar-charts/"
   ]
  },
  {
   "cell_type": "code",
   "execution_count": 4,
   "metadata": {},
   "outputs": [],
   "source": [
    "import dash\n",
    "from dash import dcc\n",
    "from dash import html\n",
    "from dash.dependencies import Input, Output\n",
    "import plotly.express as px\n",
    "\n",
    "# so it will run in jupyter notebook in VS Code for me\n",
    "from jupyter_dash import JupyterDash"
   ]
  },
  {
   "cell_type": "markdown",
   "metadata": {},
   "source": [
    "Dash app for tree health by borough and tree species."
   ]
  },
  {
   "cell_type": "code",
   "execution_count": 7,
   "metadata": {},
   "outputs": [
    {
     "data": {
      "text/html": [
       "\n",
       "        <iframe\n",
       "            width=\"100%\"\n",
       "            height=\"650\"\n",
       "            src=\"http://127.0.0.1:8050/\"\n",
       "            frameborder=\"0\"\n",
       "            allowfullscreen\n",
       "        ></iframe>\n",
       "        "
      ],
      "text/plain": [
       "<IPython.lib.display.IFrame at 0x25f33bed6d0>"
      ]
     },
     "metadata": {},
     "output_type": "display_data"
    }
   ],
   "source": [
    "df = trees\n",
    "# make a list of each boro name to use in the 'option' line down below\n",
    "species = df.spc_common.unique()\n",
    "\n",
    "# must user JupyterDash so it displays in this notebook instead of usual dash.Dash\n",
    "app = JupyterDash(__name__)\n",
    "\n",
    "app.layout = html.Div([\n",
    "    dcc.Dropdown(\n",
    "        id=\"species_dropdown\",\n",
    "        options=[{\"label\": x, \"value\": x} for x in species],\n",
    "        # set default value\n",
    "        value=species[0],\n",
    "        clearable=False,\n",
    "    ),\n",
    "    dcc.Graph(id=\"bar-chart\"),\n",
    "])\n",
    "\n",
    "@app.callback(\n",
    "    Output(\"bar-chart\", \"figure\"), \n",
    "    [Input(\"species_dropdown\", \"value\")])\n",
    "def update_bar_chart(species):\n",
    "    mask = df[\"spc_common\"] == species\n",
    "    fig = px.bar(df[mask], x=\"boro\", y=\"count_tree_id\", color = \"health\")\n",
    "    return fig\n",
    "\n",
    "# had to add mode = 'inline' to run in jupyter notebook\n",
    "app.run_server(debug=True, mode = 'inline')"
   ]
  }
 ],
 "metadata": {
  "interpreter": {
   "hash": "ecf5722fdaf1897a315d257d89d94520bfcaa453217d5becf09b39e73618b0de"
  },
  "kernelspec": {
   "display_name": "Python 3.9.4 64-bit ('base': conda)",
   "name": "python3"
  },
  "language_info": {
   "codemirror_mode": {
    "name": "ipython",
    "version": 3
   },
   "file_extension": ".py",
   "mimetype": "text/x-python",
   "name": "python",
   "nbconvert_exporter": "python",
   "pygments_lexer": "ipython3",
   "version": "3.9.4"
  }
 },
 "nbformat": 4,
 "nbformat_minor": 2
}
